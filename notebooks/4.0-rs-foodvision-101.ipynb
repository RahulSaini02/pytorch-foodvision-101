{
 "cells": [
  {
   "cell_type": "markdown",
   "id": "6b361c4f",
   "metadata": {},
   "source": [
    "# 04 Building Model using Food101"
   ]
  },
  {
   "cell_type": "markdown",
   "id": "13a629d5",
   "metadata": {},
   "source": [
    "Since FoodVision Mini is trained on pizza, steak and sushi images from the Food101 dataset (101 classes of food x 1000 images each), how about we make FoodVision Big by training a model on all 101 classes!\n",
    "\n",
    "We'll go from three classes to 101!"
   ]
  },
  {
   "cell_type": "markdown",
   "id": "08dca041",
   "metadata": {},
   "source": [
    "## 1 Creating a model and transforms for FoodVision Big"
   ]
  },
  {
   "cell_type": "code",
   "execution_count": 2,
   "id": "f758cafd",
   "metadata": {},
   "outputs": [],
   "source": [
    "import sys\n",
    "from pathlib import Path"
   ]
  },
  {
   "cell_type": "code",
   "execution_count": 8,
   "id": "9c280ca6",
   "metadata": {},
   "outputs": [
    {
     "name": "stdout",
     "output_type": "stream",
     "text": [
      "Root Path:  /Users/rahulsaini/Documents/Repositories/pytorch-foodvision-101\n"
     ]
    }
   ],
   "source": [
    "path = Path().resolve().parent\n",
    "print(\"Root Path: \", path)\n",
    "sys.path.append(str(path))"
   ]
  },
  {
   "cell_type": "code",
   "execution_count": 9,
   "id": "931dff06",
   "metadata": {},
   "outputs": [],
   "source": [
    "from src.modeling.models import create_effnetb2_model"
   ]
  },
  {
   "cell_type": "code",
   "execution_count": 10,
   "id": "492a6f0c",
   "metadata": {},
   "outputs": [],
   "source": [
    "# Create EffNetB2 model capable of fitting to 101 classes for Food101\n",
    "effnetb2_food101, effnetb2_transforms = create_effnetb2_model(num_classes=101)"
   ]
  },
  {
   "cell_type": "markdown",
   "id": "ea2517f9",
   "metadata": {},
   "source": [
    "## 2. Data Agumentation and Transforms"
   ]
  },
  {
   "cell_type": "code",
   "execution_count": 11,
   "id": "9ab9ef54",
   "metadata": {},
   "outputs": [],
   "source": [
    "import torchvision\n",
    "\n",
    "# Create Food101 training data transforms (only perform data augmentation on the training images)\n",
    "food101_train_transforms = torchvision.transforms.Compose(\n",
    "    [\n",
    "        torchvision.transforms.TrivialAugmentWide(),\n",
    "        effnetb2_transforms,\n",
    "    ]\n",
    ")\n"
   ]
  },
  {
   "cell_type": "code",
   "execution_count": 12,
   "id": "cbe611eb",
   "metadata": {},
   "outputs": [
    {
     "name": "stdout",
     "output_type": "stream",
     "text": [
      "Training transforms:\n",
      "Compose(\n",
      "    TrivialAugmentWide(num_magnitude_bins=31, interpolation=InterpolationMode.NEAREST, fill=None)\n",
      "    ImageClassification(\n",
      "    crop_size=[288]\n",
      "    resize_size=[288]\n",
      "    mean=[0.485, 0.456, 0.406]\n",
      "    std=[0.229, 0.224, 0.225]\n",
      "    interpolation=InterpolationMode.BICUBIC\n",
      ")\n",
      ")\n",
      "\n",
      "Testing transforms:\n",
      "ImageClassification(\n",
      "    crop_size=[288]\n",
      "    resize_size=[288]\n",
      "    mean=[0.485, 0.456, 0.406]\n",
      "    std=[0.229, 0.224, 0.225]\n",
      "    interpolation=InterpolationMode.BICUBIC\n",
      ")\n"
     ]
    }
   ],
   "source": [
    "print(f\"Training transforms:\\n{food101_train_transforms}\\n\")\n",
    "print(f\"Testing transforms:\\n{effnetb2_transforms}\")"
   ]
  },
  {
   "cell_type": "markdown",
   "id": "39c3417e",
   "metadata": {},
   "source": [
    "## 3. Getting Data for FoodVision 101"
   ]
  },
  {
   "cell_type": "code",
   "execution_count": 13,
   "id": "d7e367e9",
   "metadata": {},
   "outputs": [
    {
     "name": "stderr",
     "output_type": "stream",
     "text": [
      "100%|██████████| 5.00G/5.00G [04:48<00:00, 17.3MB/s] \n"
     ]
    }
   ],
   "source": [
    "from torchvision import datasets\n",
    "\n",
    "# Setup data directory\n",
    "from pathlib import Path\n",
    "\n",
    "data_dir = Path(\"../data\")\n",
    "\n",
    "# Get training data (~750 images x 101 food classes)\n",
    "train_data = datasets.Food101(\n",
    "    root=data_dir,  # path to download data to\n",
    "    split=\"train\",  # dataset split to get\n",
    "    transform=food101_train_transforms,  # perform data augmentation on training data\n",
    "    download=True,\n",
    ")  # want to download?\n",
    "\n",
    "# Get testing data (~250 images x 101 food classes)\n",
    "test_data = datasets.Food101(\n",
    "    root=data_dir,\n",
    "    split=\"test\",\n",
    "    transform=effnetb2_transforms,  # perform normal EffNetB2 transforms on test data\n",
    "    download=True,\n",
    ")"
   ]
  },
  {
   "cell_type": "code",
   "execution_count": 14,
   "id": "1c0f2da8",
   "metadata": {},
   "outputs": [
    {
     "data": {
      "text/plain": [
       "['apple_pie',\n",
       " 'baby_back_ribs',\n",
       " 'baklava',\n",
       " 'beef_carpaccio',\n",
       " 'beef_tartare',\n",
       " 'beet_salad',\n",
       " 'beignets',\n",
       " 'bibimbap',\n",
       " 'bread_pudding',\n",
       " 'breakfast_burrito']"
      ]
     },
     "execution_count": 14,
     "metadata": {},
     "output_type": "execute_result"
    }
   ],
   "source": [
    "# Get Food101 class names\n",
    "food101_class_names = train_data.classes\n",
    "\n",
    "# View the first 10\n",
    "food101_class_names[:10]"
   ]
  },
  {
   "cell_type": "markdown",
   "id": "814a2a9f",
   "metadata": {},
   "source": [
    "### 3.1 Creating a subset of the Food101 dataset for faster experimenting"
   ]
  },
  {
   "cell_type": "code",
   "execution_count": 15,
   "id": "65ff34c9",
   "metadata": {},
   "outputs": [],
   "source": [
    "import torch\n",
    "\n",
    "def split_dataset(\n",
    "    dataset: torchvision.datasets, split_size: float = 0.2, seed: int = 42\n",
    "):\n",
    "    \"\"\"Randomly splits a given dataset into two proportions based on split_size and seed.\n",
    "\n",
    "    Args:\n",
    "        dataset (torchvision.datasets): A PyTorch Dataset, typically one from torchvision.datasets.\n",
    "        split_size (float, optional): How much of the dataset should be split?\n",
    "            E.g. split_size=0.2 means there will be a 20% split and an 80% split. Defaults to 0.2.\n",
    "        seed (int, optional): Seed for random generator. Defaults to 42.\n",
    "\n",
    "    Returns:\n",
    "        tuple: (random_split_1, random_split_2) where random_split_1 is of size split_size*len(dataset) and\n",
    "            random_split_2 is of size (1-split_size)*len(dataset).\n",
    "    \"\"\"\n",
    "    # Create split lengths based on original dataset length\n",
    "    length_1 = int(len(dataset) * split_size)  # desired length\n",
    "    length_2 = len(dataset) - length_1  # remaining length\n",
    "\n",
    "    # Print out info\n",
    "    print(\n",
    "        f\"[INFO] Splitting dataset of length {len(dataset)} into splits of size: {length_1} ({int(split_size * 100)}%), {length_2} ({int((1 - split_size) * 100)}%)\"\n",
    "    )\n",
    "\n",
    "    # Create splits with given random seed\n",
    "    random_split_1, random_split_2 = torch.utils.data.random_split(\n",
    "        dataset, lengths=[length_1, length_2], generator=torch.manual_seed(seed)\n",
    "    )  # set the random seed for reproducible splits\n",
    "    return random_split_1, random_split_2"
   ]
  },
  {
   "cell_type": "code",
   "execution_count": 16,
   "id": "c2684040",
   "metadata": {},
   "outputs": [
    {
     "name": "stdout",
     "output_type": "stream",
     "text": [
      "[INFO] Splitting dataset of length 75750 into splits of size: 15150 (20%), 60600 (80%)\n",
      "[INFO] Splitting dataset of length 25250 into splits of size: 5050 (20%), 20200 (80%)\n"
     ]
    },
    {
     "data": {
      "text/plain": [
       "(15150, 5050)"
      ]
     },
     "execution_count": 16,
     "metadata": {},
     "output_type": "execute_result"
    }
   ],
   "source": [
    "# Create training 20% split of Food101\n",
    "train_data_food101_20_percent, _ = split_dataset(dataset=train_data, split_size=0.2)\n",
    "\n",
    "# Create testing 20% split of Food101\n",
    "test_data_food101_20_percent, _ = split_dataset(dataset=test_data, split_size=0.2)\n",
    "\n",
    "len(train_data_food101_20_percent), len(test_data_food101_20_percent)"
   ]
  },
  {
   "cell_type": "markdown",
   "id": "c4c39d3a",
   "metadata": {},
   "source": [
    "### 3.2 Turning our Food101 datasets into `DataLoader`s"
   ]
  },
  {
   "cell_type": "code",
   "execution_count": 19,
   "id": "c6d84e27",
   "metadata": {},
   "outputs": [],
   "source": [
    "import os\n",
    "import torch\n",
    "\n",
    "BATCH_SIZE = 32\n",
    "NUM_WORKERS = (\n",
    "    2 if os.cpu_count() <= 4 else 4\n",
    ")  # this value is very experimental and will depend on the hardware you have available, Google Colab generally provides 2x CPUs\n",
    "\n",
    "# Create Food101 20 percent training DataLoader\n",
    "train_dataloader_food101_20_percent = torch.utils.data.DataLoader(\n",
    "    train_data_food101_20_percent,\n",
    "    batch_size=BATCH_SIZE,\n",
    "    shuffle=True,\n",
    "    num_workers=NUM_WORKERS,\n",
    ")\n",
    "# Create Food101 20 percent testing DataLoader\n",
    "test_dataloader_food101_20_percent = torch.utils.data.DataLoader(\n",
    "    test_data_food101_20_percent,\n",
    "    batch_size=BATCH_SIZE,\n",
    "    shuffle=False,\n",
    "    num_workers=NUM_WORKERS,\n",
    ")"
   ]
  },
  {
   "cell_type": "markdown",
   "id": "c0a7e42c",
   "metadata": {},
   "source": [
    "## 4 Training FoodVision 101 model"
   ]
  },
  {
   "cell_type": "code",
   "execution_count": 20,
   "id": "2ccf9eee",
   "metadata": {},
   "outputs": [
    {
     "name": "stderr",
     "output_type": "stream",
     "text": [
      " 20%|██        | 1/5 [04:18<17:13, 258.36s/it]"
     ]
    },
    {
     "name": "stdout",
     "output_type": "stream",
     "text": [
      "Epoch: 1 | train_loss: 3.6378 | train_acc: 0.2794 | test_loss: 2.7743 | test_acc: 0.4922\n"
     ]
    },
    {
     "name": "stderr",
     "output_type": "stream",
     "text": [
      " 40%|████      | 2/5 [08:35<12:52, 257.65s/it]"
     ]
    },
    {
     "name": "stdout",
     "output_type": "stream",
     "text": [
      "Epoch: 2 | train_loss: 2.8589 | train_acc: 0.4369 | test_loss: 2.4679 | test_acc: 0.5420\n"
     ]
    },
    {
     "name": "stderr",
     "output_type": "stream",
     "text": [
      " 60%|██████    | 3/5 [13:30<09:09, 274.82s/it]"
     ]
    },
    {
     "name": "stdout",
     "output_type": "stream",
     "text": [
      "Epoch: 3 | train_loss: 2.6589 | train_acc: 0.4851 | test_loss: 2.3477 | test_acc: 0.5665\n"
     ]
    },
    {
     "name": "stderr",
     "output_type": "stream",
     "text": [
      " 80%|████████  | 4/5 [18:51<04:52, 292.81s/it]"
     ]
    },
    {
     "name": "stdout",
     "output_type": "stream",
     "text": [
      "Epoch: 4 | train_loss: 2.5470 | train_acc: 0.5097 | test_loss: 2.3039 | test_acc: 0.5759\n"
     ]
    },
    {
     "name": "stderr",
     "output_type": "stream",
     "text": [
      "100%|██████████| 5/5 [24:14<00:00, 290.97s/it]"
     ]
    },
    {
     "name": "stdout",
     "output_type": "stream",
     "text": [
      "Epoch: 5 | train_loss: 2.4990 | train_acc: 0.5216 | test_loss: 2.2774 | test_acc: 0.5776\n"
     ]
    },
    {
     "name": "stderr",
     "output_type": "stream",
     "text": [
      "\n"
     ]
    }
   ],
   "source": [
    "from src.modeling.train import train\n",
    "from src.modeling.utils import set_seeds\n",
    "\n",
    "device=\"mps\"\n",
    "\n",
    "# Setup optimizer\n",
    "optimizer = torch.optim.Adam(params=effnetb2_food101.parameters(), lr=1e-3)\n",
    "\n",
    "# Setup loss function\n",
    "loss_fn = torch.nn.CrossEntropyLoss(\n",
    "    label_smoothing=0.1\n",
    ")  # throw in a little label smoothing because so many classes\n",
    "\n",
    "# Want to beat original Food101 paper with 20% of data, need 56.4%+ acc on test dataset\n",
    "set_seeds()\n",
    "effnetb2_food101_results = train(\n",
    "    model=effnetb2_food101,\n",
    "    train_dataloader=train_dataloader_food101_20_percent,\n",
    "    test_dataloader=test_dataloader_food101_20_percent,\n",
    "    optimizer=optimizer,\n",
    "    loss_fn=loss_fn,\n",
    "    epochs=5,\n",
    "    device=device,\n",
    ")"
   ]
  },
  {
   "cell_type": "markdown",
   "id": "dfcf137b",
   "metadata": {},
   "source": [
    "## 5. Inspecting loss curves of FoodVision 101 model"
   ]
  },
  {
   "cell_type": "code",
   "execution_count": 21,
   "id": "ea80578b",
   "metadata": {},
   "outputs": [
    {
     "data": {
      "image/png": "[encoded data removed]",
      "text/plain": [
       "<Figure size 1500x700 with 2 Axes>"
      ]
     },
     "metadata": {},
     "output_type": "display_data"
    }
   ],
   "source": [
    "from src.plots import plot_loss_curves\n",
    "\n",
    "# Check out the loss curves for FoodVision Big\n",
    "plot_loss_curves(effnetb2_food101_results)\n"
   ]
  },
  {
   "cell_type": "markdown",
   "id": "cb29bc65",
   "metadata": {},
   "source": [
    "## 6. Saving Food 101 Model"
   ]
  },
  {
   "cell_type": "code",
   "execution_count": 28,
   "id": "e4c533f5",
   "metadata": {},
   "outputs": [],
   "source": [
    "from src.modeling.utils import save_model\n",
    "from src.config import MODEL_DIR\n",
    "\n",
    "# Create a model path\n",
    "effnetb2_food101_model_name = \"effnetb2_food101_20_percent.pth\""
   ]
  },
  {
   "cell_type": "code",
   "execution_count": 29,
   "id": "92c7bffe",
   "metadata": {},
   "outputs": [
    {
     "name": "stdout",
     "output_type": "stream",
     "text": [
      "[INFO] Saving model to: models/effnetb2_food101_20_percent.pth\n"
     ]
    }
   ],
   "source": [
    "# Save FoodVision Big model\n",
    "save_model(\n",
    "    model=effnetb2_food101,\n",
    "    target_dir=MODEL_DIR,\n",
    "    model_name=effnetb2_food101_model_name,\n",
    ")\n"
   ]
  },
  {
   "cell_type": "markdown",
   "id": "8bd42bda",
   "metadata": {},
   "source": [
    "## 7. Save class names to txt file"
   ]
  },
  {
   "cell_type": "code",
   "execution_count": 31,
   "id": "c3742f4c",
   "metadata": {},
   "outputs": [],
   "source": [
    "# Save class names to a file\n",
    "from pathlib import Path\n",
    "\n",
    "class_names_path = Path(\"../references/food101_classes.txt\")\n",
    "class_names_path.parent.mkdir(parents=True, exist_ok=True)\n",
    "\n",
    "with open(class_names_path, \"w\") as f:\n",
    "    for class_name in food101_class_names:\n",
    "        f.write(class_name + \"\\n\")\n"
   ]
  },
  {
   "cell_type": "code",
   "execution_count": null,
   "id": "ce790f58",
   "metadata": {},
   "outputs": [],
   "source": []
  }
 ],
 "metadata": {
  "kernelspec": {
   "display_name": ".venv",
   "language": "python",
   "name": "python3"
  },
  "language_info": {
   "codemirror_mode": {
    "name": "ipython",
    "version": 3
   },
   "file_extension": ".py",
   "mimetype": "text/x-python",
   "name": "python",
   "nbconvert_exporter": "python",
   "pygments_lexer": "ipython3",
   "version": "3.13.3"
  }
 },
 "nbformat": 4,
 "nbformat_minor": 5
}
